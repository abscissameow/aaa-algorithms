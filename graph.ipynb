{
 "cells": [
  {
   "cell_type": "code",
   "execution_count": 1,
   "metadata": {},
   "outputs": [],
   "source": [
    "from collections import deque, defaultdict\n",
    "import pandas as pd"
   ]
  },
  {
   "cell_type": "code",
   "execution_count": 2,
   "metadata": {},
   "outputs": [],
   "source": [
    "pagelinks_df = pd.read_csv('simple_english_wiki_pagelinks.csv')\n",
    "pages_df = pd.read_csv('simple_english_wiki_pages.csv')\n"
   ]
  },
  {
   "cell_type": "code",
   "execution_count": 3,
   "metadata": {},
   "outputs": [],
   "source": [
    "graph = defaultdict(set)\n",
    "for _, row in pagelinks_df.iterrows():\n",
    "    graph[row['pl_from']].add(row['pl_to'])\n",
    "\n",
    "\n",
    "def bfs_search(graph, start, end):\n",
    "    \"\"\"\n",
    "    поиск в ширину в графе\n",
    "    \"\"\"\n",
    "    queue = deque([(start, [start])])\n",
    "    visited = set()\n",
    "\n",
    "    while queue:\n",
    "        current, path = queue.popleft()\n",
    "        if current == end:\n",
    "            return path\n",
    "        if current not in visited:\n",
    "            visited.add(current)\n",
    "            for neighbor in graph[current]:\n",
    "                queue.append((neighbor, path + [neighbor]))\n",
    "\n",
    "    return None \n"
   ]
  },
  {
   "cell_type": "code",
   "execution_count": 29,
   "metadata": {},
   "outputs": [
    {
     "name": "stdout",
     "output_type": "stream",
     "text": [
      "самый короткий путь от 'Analytics' к 'Algorithm': [747593, 31531, 2957, 110, 170677]\n",
      "число переходов: 4\n"
     ]
    }
   ],
   "source": [
    "start_page = pages_df[pages_df['page_title'] == 'Analytics']['page_id'].values[0]\n",
    "end_page = pages_df[pages_df['page_title'] == 'Algorithm']['page_id'].values[0]\n",
    "\n",
    "shortest_path = bfs_search(graph, start_page, end_page)\n",
    "\n",
    "if shortest_path:\n",
    "    print(f\"самый короткий путь от 'Analytics' к 'Algorithm': {shortest_path}\")\n",
    "    print(f\"число переходов: {len(shortest_path) - 1}\")\n",
    "else:\n",
    "    print(\"нет пути :с\")"
   ]
  },
  {
   "cell_type": "code",
   "execution_count": 31,
   "metadata": {},
   "outputs": [
    {
     "name": "stdout",
     "output_type": "stream",
     "text": [
      "статью с page_id 110 зовут: Computer_science\n"
     ]
    }
   ],
   "source": [
    "def find_title_by_id(pages_df, page_id):\n",
    "    \"\"\"\n",
    "    поиска заголовка страницы по её id\n",
    "    \"\"\"\n",
    "    row = pages_df[pages_df['page_id'] == page_id]\n",
    "    if not row.empty:\n",
    "        return row['page_title'].values[0]\n",
    "    else:\n",
    "        return None\n",
    "\n",
    "\n",
    "my_page_id = 110  \n",
    "title = find_title_by_id(pages_df, my_page_id)\n",
    "\n",
    "if title:\n",
    "    print(f\"статью с page_id {my_page_id} зовут: {title}\")\n",
    "else:\n",
    "    print(f\"нет такой статьи :с\")"
   ]
  },
  {
   "cell_type": "code",
   "execution_count": null,
   "metadata": {},
   "outputs": [],
   "source": [
    "graph = defaultdict(dict)\n",
    "for _, row in pagelinks_df.iterrows():\n",
    "    graph[row['pl_from']][row['pl_to']] = len(str(row['pl_title']))\n",
    "\n",
    "def dijkstra(graph, start, end):\n",
    "    \"\"\"\n",
    "    будем искать с помощью дейкстры\n",
    "    \"\"\"\n",
    "    priority_queue = [(0, start, [])]\n",
    "    visited = set()\n",
    "\n",
    "    while priority_queue:\n",
    "        cost, current, path = min(priority_queue)\n",
    "        priority_queue.remove((cost, current, path))\n",
    "\n",
    "        if current == end:\n",
    "            return path + [current]\n",
    "\n",
    "        if current not in visited:\n",
    "            visited.add(current)\n",
    "            for neighbor, weight in graph[current].items():\n",
    "                priority_queue.append((cost + weight, neighbor, path + [current]))\n",
    "\n",
    "    return None \n",
    "\n",
    "start_page = pages_df[pages_df['page_title'] == 'Analytics']['page_id'].values[0]\n",
    "end_page = pages_df[pages_df['page_title'] == 'Algorithm']['page_id'].values[0]\n",
    "\n",
    "shortest_path = dijkstra(graph, start_page, end_page)"
   ]
  },
  {
   "cell_type": "code",
   "execution_count": 33,
   "metadata": {},
   "outputs": [
    {
     "name": "stdout",
     "output_type": "stream",
     "text": [
      "самый короткий путь от 'Analytics' к 'Algorithm': [747593, 2958, 911, 6309, 5723, 4069, 170677]\n",
      "общая длина переходов: 29\n",
      "статью с page_id 4069 зовут: Logic\n"
     ]
    }
   ],
   "source": [
    "new_page_id = 4069\n",
    "if shortest_path:\n",
    "    print(f\"самый короткий путь от 'Analytics' к 'Algorithm': {shortest_path}\")\n",
    "    \n",
    "    total_length = sum(graph[shortest_path[i]][shortest_path[i+1]] for i in range(len(shortest_path)-1))\n",
    "    \n",
    "    print(f\"общая длина переходов: {total_length}\")\n",
    "\n",
    "    title = find_title_by_id(pages_df, new_page_id)\n",
    "\n",
    "    print(f\"статью с page_id {new_page_id} зовут: {title}\")\n",
    "else:\n",
    "    print(\"нет пути :с\")\n"
   ]
  }
 ],
 "metadata": {
  "kernelspec": {
   "display_name": "Python 3",
   "language": "python",
   "name": "python3"
  },
  "language_info": {
   "codemirror_mode": {
    "name": "ipython",
    "version": 3
   },
   "file_extension": ".py",
   "mimetype": "text/x-python",
   "name": "python",
   "nbconvert_exporter": "python",
   "pygments_lexer": "ipython3",
   "version": "3.10.5"
  }
 },
 "nbformat": 4,
 "nbformat_minor": 2
}
